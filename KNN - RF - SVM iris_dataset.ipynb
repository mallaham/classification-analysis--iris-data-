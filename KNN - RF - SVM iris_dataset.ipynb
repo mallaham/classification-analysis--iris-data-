{
 "cells": [
  {
   "cell_type": "code",
   "execution_count": 1,
   "metadata": {
    "collapsed": true
   },
   "outputs": [],
   "source": [
    "import pandas as pd\n",
    "import numpy as np\n",
    "import seaborn as sns\n",
    "import matplotlib.pyplot as plt\n",
    "%matplotlib inline"
   ]
  },
  {
   "cell_type": "code",
   "execution_count": 2,
   "metadata": {
    "collapsed": true
   },
   "outputs": [],
   "source": [
    "iris_data = sns.load_dataset('iris')"
   ]
  },
  {
   "cell_type": "markdown",
   "metadata": {},
   "source": [
    "#### Checking for missing data"
   ]
  },
  {
   "cell_type": "code",
   "execution_count": 3,
   "metadata": {
    "collapsed": false
   },
   "outputs": [
    {
     "name": "stdout",
     "output_type": "stream",
     "text": [
      "<class 'pandas.core.frame.DataFrame'>\n",
      "RangeIndex: 150 entries, 0 to 149\n",
      "Data columns (total 5 columns):\n",
      "sepal_length    150 non-null float64\n",
      "sepal_width     150 non-null float64\n",
      "petal_length    150 non-null float64\n",
      "petal_width     150 non-null float64\n",
      "species         150 non-null object\n",
      "dtypes: float64(4), object(1)\n",
      "memory usage: 5.9+ KB\n"
     ]
    }
   ],
   "source": [
    "iris_data.info()"
   ]
  },
  {
   "cell_type": "code",
   "execution_count": 4,
   "metadata": {
    "collapsed": false
   },
   "outputs": [
    {
     "data": {
      "text/html": [
       "<div>\n",
       "<table border=\"1\" class=\"dataframe\">\n",
       "  <thead>\n",
       "    <tr style=\"text-align: right;\">\n",
       "      <th></th>\n",
       "      <th>sepal_length</th>\n",
       "      <th>sepal_width</th>\n",
       "      <th>petal_length</th>\n",
       "      <th>petal_width</th>\n",
       "      <th>species</th>\n",
       "    </tr>\n",
       "  </thead>\n",
       "  <tbody>\n",
       "    <tr>\n",
       "      <th>0</th>\n",
       "      <td>5.1</td>\n",
       "      <td>3.5</td>\n",
       "      <td>1.4</td>\n",
       "      <td>0.2</td>\n",
       "      <td>setosa</td>\n",
       "    </tr>\n",
       "    <tr>\n",
       "      <th>1</th>\n",
       "      <td>4.9</td>\n",
       "      <td>3.0</td>\n",
       "      <td>1.4</td>\n",
       "      <td>0.2</td>\n",
       "      <td>setosa</td>\n",
       "    </tr>\n",
       "    <tr>\n",
       "      <th>2</th>\n",
       "      <td>4.7</td>\n",
       "      <td>3.2</td>\n",
       "      <td>1.3</td>\n",
       "      <td>0.2</td>\n",
       "      <td>setosa</td>\n",
       "    </tr>\n",
       "  </tbody>\n",
       "</table>\n",
       "</div>"
      ],
      "text/plain": [
       "   sepal_length  sepal_width  petal_length  petal_width species\n",
       "0           5.1          3.5           1.4          0.2  setosa\n",
       "1           4.9          3.0           1.4          0.2  setosa\n",
       "2           4.7          3.2           1.3          0.2  setosa"
      ]
     },
     "execution_count": 4,
     "metadata": {},
     "output_type": "execute_result"
    }
   ],
   "source": [
    "iris_data.head(3)"
   ]
  },
  {
   "cell_type": "code",
   "execution_count": 5,
   "metadata": {
    "collapsed": false
   },
   "outputs": [
    {
     "data": {
      "text/html": [
       "<div>\n",
       "<table border=\"1\" class=\"dataframe\">\n",
       "  <thead>\n",
       "    <tr style=\"text-align: right;\">\n",
       "      <th></th>\n",
       "      <th>sepal_length</th>\n",
       "      <th>sepal_width</th>\n",
       "      <th>petal_length</th>\n",
       "      <th>petal_width</th>\n",
       "    </tr>\n",
       "  </thead>\n",
       "  <tbody>\n",
       "    <tr>\n",
       "      <th>count</th>\n",
       "      <td>150.000000</td>\n",
       "      <td>150.000000</td>\n",
       "      <td>150.000000</td>\n",
       "      <td>150.000000</td>\n",
       "    </tr>\n",
       "    <tr>\n",
       "      <th>mean</th>\n",
       "      <td>5.843333</td>\n",
       "      <td>3.057333</td>\n",
       "      <td>3.758000</td>\n",
       "      <td>1.199333</td>\n",
       "    </tr>\n",
       "    <tr>\n",
       "      <th>std</th>\n",
       "      <td>0.828066</td>\n",
       "      <td>0.435866</td>\n",
       "      <td>1.765298</td>\n",
       "      <td>0.762238</td>\n",
       "    </tr>\n",
       "    <tr>\n",
       "      <th>min</th>\n",
       "      <td>4.300000</td>\n",
       "      <td>2.000000</td>\n",
       "      <td>1.000000</td>\n",
       "      <td>0.100000</td>\n",
       "    </tr>\n",
       "    <tr>\n",
       "      <th>25%</th>\n",
       "      <td>5.100000</td>\n",
       "      <td>2.800000</td>\n",
       "      <td>1.600000</td>\n",
       "      <td>0.300000</td>\n",
       "    </tr>\n",
       "    <tr>\n",
       "      <th>50%</th>\n",
       "      <td>5.800000</td>\n",
       "      <td>3.000000</td>\n",
       "      <td>4.350000</td>\n",
       "      <td>1.300000</td>\n",
       "    </tr>\n",
       "    <tr>\n",
       "      <th>75%</th>\n",
       "      <td>6.400000</td>\n",
       "      <td>3.300000</td>\n",
       "      <td>5.100000</td>\n",
       "      <td>1.800000</td>\n",
       "    </tr>\n",
       "    <tr>\n",
       "      <th>max</th>\n",
       "      <td>7.900000</td>\n",
       "      <td>4.400000</td>\n",
       "      <td>6.900000</td>\n",
       "      <td>2.500000</td>\n",
       "    </tr>\n",
       "  </tbody>\n",
       "</table>\n",
       "</div>"
      ],
      "text/plain": [
       "       sepal_length  sepal_width  petal_length  petal_width\n",
       "count    150.000000   150.000000    150.000000   150.000000\n",
       "mean       5.843333     3.057333      3.758000     1.199333\n",
       "std        0.828066     0.435866      1.765298     0.762238\n",
       "min        4.300000     2.000000      1.000000     0.100000\n",
       "25%        5.100000     2.800000      1.600000     0.300000\n",
       "50%        5.800000     3.000000      4.350000     1.300000\n",
       "75%        6.400000     3.300000      5.100000     1.800000\n",
       "max        7.900000     4.400000      6.900000     2.500000"
      ]
     },
     "execution_count": 5,
     "metadata": {},
     "output_type": "execute_result"
    }
   ],
   "source": [
    "iris_data.describe()"
   ]
  },
  {
   "cell_type": "code",
   "execution_count": 6,
   "metadata": {
    "collapsed": false
   },
   "outputs": [
    {
     "data": {
      "text/plain": [
       "<matplotlib.axes._subplots.AxesSubplot at 0x10eddaf28>"
      ]
     },
     "execution_count": 6,
     "metadata": {},
     "output_type": "execute_result"
    },
    {
     "data": {
      "image/png": "[encoded data removed]",
      "text/plain": [
       "<matplotlib.figure.Figure at 0x10edda3c8>"
      ]
     },
     "metadata": {},
     "output_type": "display_data"
    }
   ],
   "source": [
    "sns.countplot(x='species',data=iris_data)"
   ]
  },
  {
   "cell_type": "markdown",
   "metadata": {},
   "source": [
    "### Which classification method works well?"
   ]
  },
  {
   "cell_type": "markdown",
   "metadata": {},
   "source": [
    "# K - Nearest Neighbor (KNN)\n",
    "K Nearest Neighbor is a classification method. However, it is very sensitive to outliers, which affects the accuracy of the KNN classifier since it's based on calcualting the distance between observations (or data points). Therefore, not scaling large numbers leads to misinterpretation of the data due to large effects."
   ]
  },
  {
   "cell_type": "code",
   "execution_count": 7,
   "metadata": {
    "collapsed": false,
    "scrolled": true
   },
   "outputs": [
    {
     "data": {
      "text/html": [
       "<div>\n",
       "<table border=\"1\" class=\"dataframe\">\n",
       "  <thead>\n",
       "    <tr style=\"text-align: right;\">\n",
       "      <th></th>\n",
       "      <th>sepal_length</th>\n",
       "      <th>sepal_width</th>\n",
       "      <th>petal_length</th>\n",
       "      <th>petal_width</th>\n",
       "    </tr>\n",
       "  </thead>\n",
       "  <tbody>\n",
       "    <tr>\n",
       "      <th>0</th>\n",
       "      <td>-0.900681</td>\n",
       "      <td>1.019004</td>\n",
       "      <td>-1.340227</td>\n",
       "      <td>-1.315444</td>\n",
       "    </tr>\n",
       "    <tr>\n",
       "      <th>1</th>\n",
       "      <td>-1.143017</td>\n",
       "      <td>-0.131979</td>\n",
       "      <td>-1.340227</td>\n",
       "      <td>-1.315444</td>\n",
       "    </tr>\n",
       "    <tr>\n",
       "      <th>2</th>\n",
       "      <td>-1.385353</td>\n",
       "      <td>0.328414</td>\n",
       "      <td>-1.397064</td>\n",
       "      <td>-1.315444</td>\n",
       "    </tr>\n",
       "    <tr>\n",
       "      <th>3</th>\n",
       "      <td>-1.506521</td>\n",
       "      <td>0.098217</td>\n",
       "      <td>-1.283389</td>\n",
       "      <td>-1.315444</td>\n",
       "    </tr>\n",
       "    <tr>\n",
       "      <th>4</th>\n",
       "      <td>-1.021849</td>\n",
       "      <td>1.249201</td>\n",
       "      <td>-1.340227</td>\n",
       "      <td>-1.315444</td>\n",
       "    </tr>\n",
       "    <tr>\n",
       "      <th>5</th>\n",
       "      <td>-0.537178</td>\n",
       "      <td>1.939791</td>\n",
       "      <td>-1.169714</td>\n",
       "      <td>-1.052180</td>\n",
       "    </tr>\n",
       "    <tr>\n",
       "      <th>6</th>\n",
       "      <td>-1.506521</td>\n",
       "      <td>0.788808</td>\n",
       "      <td>-1.340227</td>\n",
       "      <td>-1.183812</td>\n",
       "    </tr>\n",
       "    <tr>\n",
       "      <th>7</th>\n",
       "      <td>-1.021849</td>\n",
       "      <td>0.788808</td>\n",
       "      <td>-1.283389</td>\n",
       "      <td>-1.315444</td>\n",
       "    </tr>\n",
       "    <tr>\n",
       "      <th>8</th>\n",
       "      <td>-1.748856</td>\n",
       "      <td>-0.362176</td>\n",
       "      <td>-1.340227</td>\n",
       "      <td>-1.315444</td>\n",
       "    </tr>\n",
       "    <tr>\n",
       "      <th>9</th>\n",
       "      <td>-1.143017</td>\n",
       "      <td>0.098217</td>\n",
       "      <td>-1.283389</td>\n",
       "      <td>-1.447076</td>\n",
       "    </tr>\n",
       "    <tr>\n",
       "      <th>10</th>\n",
       "      <td>-0.537178</td>\n",
       "      <td>1.479398</td>\n",
       "      <td>-1.283389</td>\n",
       "      <td>-1.315444</td>\n",
       "    </tr>\n",
       "    <tr>\n",
       "      <th>11</th>\n",
       "      <td>-1.264185</td>\n",
       "      <td>0.788808</td>\n",
       "      <td>-1.226552</td>\n",
       "      <td>-1.315444</td>\n",
       "    </tr>\n",
       "    <tr>\n",
       "      <th>12</th>\n",
       "      <td>-1.264185</td>\n",
       "      <td>-0.131979</td>\n",
       "      <td>-1.340227</td>\n",
       "      <td>-1.447076</td>\n",
       "    </tr>\n",
       "    <tr>\n",
       "      <th>13</th>\n",
       "      <td>-1.870024</td>\n",
       "      <td>-0.131979</td>\n",
       "      <td>-1.510739</td>\n",
       "      <td>-1.447076</td>\n",
       "    </tr>\n",
       "    <tr>\n",
       "      <th>14</th>\n",
       "      <td>-0.052506</td>\n",
       "      <td>2.169988</td>\n",
       "      <td>-1.453901</td>\n",
       "      <td>-1.315444</td>\n",
       "    </tr>\n",
       "    <tr>\n",
       "      <th>15</th>\n",
       "      <td>-0.173674</td>\n",
       "      <td>3.090775</td>\n",
       "      <td>-1.283389</td>\n",
       "      <td>-1.052180</td>\n",
       "    </tr>\n",
       "    <tr>\n",
       "      <th>16</th>\n",
       "      <td>-0.537178</td>\n",
       "      <td>1.939791</td>\n",
       "      <td>-1.397064</td>\n",
       "      <td>-1.052180</td>\n",
       "    </tr>\n",
       "    <tr>\n",
       "      <th>17</th>\n",
       "      <td>-0.900681</td>\n",
       "      <td>1.019004</td>\n",
       "      <td>-1.340227</td>\n",
       "      <td>-1.183812</td>\n",
       "    </tr>\n",
       "    <tr>\n",
       "      <th>18</th>\n",
       "      <td>-0.173674</td>\n",
       "      <td>1.709595</td>\n",
       "      <td>-1.169714</td>\n",
       "      <td>-1.183812</td>\n",
       "    </tr>\n",
       "    <tr>\n",
       "      <th>19</th>\n",
       "      <td>-0.900681</td>\n",
       "      <td>1.709595</td>\n",
       "      <td>-1.283389</td>\n",
       "      <td>-1.183812</td>\n",
       "    </tr>\n",
       "    <tr>\n",
       "      <th>20</th>\n",
       "      <td>-0.537178</td>\n",
       "      <td>0.788808</td>\n",
       "      <td>-1.169714</td>\n",
       "      <td>-1.315444</td>\n",
       "    </tr>\n",
       "    <tr>\n",
       "      <th>21</th>\n",
       "      <td>-0.900681</td>\n",
       "      <td>1.479398</td>\n",
       "      <td>-1.283389</td>\n",
       "      <td>-1.052180</td>\n",
       "    </tr>\n",
       "    <tr>\n",
       "      <th>22</th>\n",
       "      <td>-1.506521</td>\n",
       "      <td>1.249201</td>\n",
       "      <td>-1.567576</td>\n",
       "      <td>-1.315444</td>\n",
       "    </tr>\n",
       "    <tr>\n",
       "      <th>23</th>\n",
       "      <td>-0.900681</td>\n",
       "      <td>0.558611</td>\n",
       "      <td>-1.169714</td>\n",
       "      <td>-0.920548</td>\n",
       "    </tr>\n",
       "    <tr>\n",
       "      <th>24</th>\n",
       "      <td>-1.264185</td>\n",
       "      <td>0.788808</td>\n",
       "      <td>-1.056039</td>\n",
       "      <td>-1.315444</td>\n",
       "    </tr>\n",
       "    <tr>\n",
       "      <th>25</th>\n",
       "      <td>-1.021849</td>\n",
       "      <td>-0.131979</td>\n",
       "      <td>-1.226552</td>\n",
       "      <td>-1.315444</td>\n",
       "    </tr>\n",
       "    <tr>\n",
       "      <th>26</th>\n",
       "      <td>-1.021849</td>\n",
       "      <td>0.788808</td>\n",
       "      <td>-1.226552</td>\n",
       "      <td>-1.052180</td>\n",
       "    </tr>\n",
       "    <tr>\n",
       "      <th>27</th>\n",
       "      <td>-0.779513</td>\n",
       "      <td>1.019004</td>\n",
       "      <td>-1.283389</td>\n",
       "      <td>-1.315444</td>\n",
       "    </tr>\n",
       "    <tr>\n",
       "      <th>28</th>\n",
       "      <td>-0.779513</td>\n",
       "      <td>0.788808</td>\n",
       "      <td>-1.340227</td>\n",
       "      <td>-1.315444</td>\n",
       "    </tr>\n",
       "    <tr>\n",
       "      <th>29</th>\n",
       "      <td>-1.385353</td>\n",
       "      <td>0.328414</td>\n",
       "      <td>-1.226552</td>\n",
       "      <td>-1.315444</td>\n",
       "    </tr>\n",
       "    <tr>\n",
       "      <th>...</th>\n",
       "      <td>...</td>\n",
       "      <td>...</td>\n",
       "      <td>...</td>\n",
       "      <td>...</td>\n",
       "    </tr>\n",
       "    <tr>\n",
       "      <th>120</th>\n",
       "      <td>1.280340</td>\n",
       "      <td>0.328414</td>\n",
       "      <td>1.103783</td>\n",
       "      <td>1.448832</td>\n",
       "    </tr>\n",
       "    <tr>\n",
       "      <th>121</th>\n",
       "      <td>-0.294842</td>\n",
       "      <td>-0.592373</td>\n",
       "      <td>0.649083</td>\n",
       "      <td>1.053935</td>\n",
       "    </tr>\n",
       "    <tr>\n",
       "      <th>122</th>\n",
       "      <td>2.249683</td>\n",
       "      <td>-0.592373</td>\n",
       "      <td>1.672157</td>\n",
       "      <td>1.053935</td>\n",
       "    </tr>\n",
       "    <tr>\n",
       "      <th>123</th>\n",
       "      <td>0.553333</td>\n",
       "      <td>-0.822570</td>\n",
       "      <td>0.649083</td>\n",
       "      <td>0.790671</td>\n",
       "    </tr>\n",
       "    <tr>\n",
       "      <th>124</th>\n",
       "      <td>1.038005</td>\n",
       "      <td>0.558611</td>\n",
       "      <td>1.103783</td>\n",
       "      <td>1.185567</td>\n",
       "    </tr>\n",
       "    <tr>\n",
       "      <th>125</th>\n",
       "      <td>1.643844</td>\n",
       "      <td>0.328414</td>\n",
       "      <td>1.274295</td>\n",
       "      <td>0.790671</td>\n",
       "    </tr>\n",
       "    <tr>\n",
       "      <th>126</th>\n",
       "      <td>0.432165</td>\n",
       "      <td>-0.592373</td>\n",
       "      <td>0.592246</td>\n",
       "      <td>0.790671</td>\n",
       "    </tr>\n",
       "    <tr>\n",
       "      <th>127</th>\n",
       "      <td>0.310998</td>\n",
       "      <td>-0.131979</td>\n",
       "      <td>0.649083</td>\n",
       "      <td>0.790671</td>\n",
       "    </tr>\n",
       "    <tr>\n",
       "      <th>128</th>\n",
       "      <td>0.674501</td>\n",
       "      <td>-0.592373</td>\n",
       "      <td>1.046945</td>\n",
       "      <td>1.185567</td>\n",
       "    </tr>\n",
       "    <tr>\n",
       "      <th>129</th>\n",
       "      <td>1.643844</td>\n",
       "      <td>-0.131979</td>\n",
       "      <td>1.160620</td>\n",
       "      <td>0.527406</td>\n",
       "    </tr>\n",
       "    <tr>\n",
       "      <th>130</th>\n",
       "      <td>1.886180</td>\n",
       "      <td>-0.592373</td>\n",
       "      <td>1.331133</td>\n",
       "      <td>0.922303</td>\n",
       "    </tr>\n",
       "    <tr>\n",
       "      <th>131</th>\n",
       "      <td>2.492019</td>\n",
       "      <td>1.709595</td>\n",
       "      <td>1.501645</td>\n",
       "      <td>1.053935</td>\n",
       "    </tr>\n",
       "    <tr>\n",
       "      <th>132</th>\n",
       "      <td>0.674501</td>\n",
       "      <td>-0.592373</td>\n",
       "      <td>1.046945</td>\n",
       "      <td>1.317199</td>\n",
       "    </tr>\n",
       "    <tr>\n",
       "      <th>133</th>\n",
       "      <td>0.553333</td>\n",
       "      <td>-0.592373</td>\n",
       "      <td>0.762758</td>\n",
       "      <td>0.395774</td>\n",
       "    </tr>\n",
       "    <tr>\n",
       "      <th>134</th>\n",
       "      <td>0.310998</td>\n",
       "      <td>-1.052767</td>\n",
       "      <td>1.046945</td>\n",
       "      <td>0.264142</td>\n",
       "    </tr>\n",
       "    <tr>\n",
       "      <th>135</th>\n",
       "      <td>2.249683</td>\n",
       "      <td>-0.131979</td>\n",
       "      <td>1.331133</td>\n",
       "      <td>1.448832</td>\n",
       "    </tr>\n",
       "    <tr>\n",
       "      <th>136</th>\n",
       "      <td>0.553333</td>\n",
       "      <td>0.788808</td>\n",
       "      <td>1.046945</td>\n",
       "      <td>1.580464</td>\n",
       "    </tr>\n",
       "    <tr>\n",
       "      <th>137</th>\n",
       "      <td>0.674501</td>\n",
       "      <td>0.098217</td>\n",
       "      <td>0.990108</td>\n",
       "      <td>0.790671</td>\n",
       "    </tr>\n",
       "    <tr>\n",
       "      <th>138</th>\n",
       "      <td>0.189830</td>\n",
       "      <td>-0.131979</td>\n",
       "      <td>0.592246</td>\n",
       "      <td>0.790671</td>\n",
       "    </tr>\n",
       "    <tr>\n",
       "      <th>139</th>\n",
       "      <td>1.280340</td>\n",
       "      <td>0.098217</td>\n",
       "      <td>0.933271</td>\n",
       "      <td>1.185567</td>\n",
       "    </tr>\n",
       "    <tr>\n",
       "      <th>140</th>\n",
       "      <td>1.038005</td>\n",
       "      <td>0.098217</td>\n",
       "      <td>1.046945</td>\n",
       "      <td>1.580464</td>\n",
       "    </tr>\n",
       "    <tr>\n",
       "      <th>141</th>\n",
       "      <td>1.280340</td>\n",
       "      <td>0.098217</td>\n",
       "      <td>0.762758</td>\n",
       "      <td>1.448832</td>\n",
       "    </tr>\n",
       "    <tr>\n",
       "      <th>142</th>\n",
       "      <td>-0.052506</td>\n",
       "      <td>-0.822570</td>\n",
       "      <td>0.762758</td>\n",
       "      <td>0.922303</td>\n",
       "    </tr>\n",
       "    <tr>\n",
       "      <th>143</th>\n",
       "      <td>1.159173</td>\n",
       "      <td>0.328414</td>\n",
       "      <td>1.217458</td>\n",
       "      <td>1.448832</td>\n",
       "    </tr>\n",
       "    <tr>\n",
       "      <th>144</th>\n",
       "      <td>1.038005</td>\n",
       "      <td>0.558611</td>\n",
       "      <td>1.103783</td>\n",
       "      <td>1.712096</td>\n",
       "    </tr>\n",
       "    <tr>\n",
       "      <th>145</th>\n",
       "      <td>1.038005</td>\n",
       "      <td>-0.131979</td>\n",
       "      <td>0.819596</td>\n",
       "      <td>1.448832</td>\n",
       "    </tr>\n",
       "    <tr>\n",
       "      <th>146</th>\n",
       "      <td>0.553333</td>\n",
       "      <td>-1.282963</td>\n",
       "      <td>0.705921</td>\n",
       "      <td>0.922303</td>\n",
       "    </tr>\n",
       "    <tr>\n",
       "      <th>147</th>\n",
       "      <td>0.795669</td>\n",
       "      <td>-0.131979</td>\n",
       "      <td>0.819596</td>\n",
       "      <td>1.053935</td>\n",
       "    </tr>\n",
       "    <tr>\n",
       "      <th>148</th>\n",
       "      <td>0.432165</td>\n",
       "      <td>0.788808</td>\n",
       "      <td>0.933271</td>\n",
       "      <td>1.448832</td>\n",
       "    </tr>\n",
       "    <tr>\n",
       "      <th>149</th>\n",
       "      <td>0.068662</td>\n",
       "      <td>-0.131979</td>\n",
       "      <td>0.762758</td>\n",
       "      <td>0.790671</td>\n",
       "    </tr>\n",
       "  </tbody>\n",
       "</table>\n",
       "<p>150 rows × 4 columns</p>\n",
       "</div>"
      ],
      "text/plain": [
       "     sepal_length  sepal_width  petal_length  petal_width\n",
       "0       -0.900681     1.019004     -1.340227    -1.315444\n",
       "1       -1.143017    -0.131979     -1.340227    -1.315444\n",
       "2       -1.385353     0.328414     -1.397064    -1.315444\n",
       "3       -1.506521     0.098217     -1.283389    -1.315444\n",
       "4       -1.021849     1.249201     -1.340227    -1.315444\n",
       "5       -0.537178     1.939791     -1.169714    -1.052180\n",
       "6       -1.506521     0.788808     -1.340227    -1.183812\n",
       "7       -1.021849     0.788808     -1.283389    -1.315444\n",
       "8       -1.748856    -0.362176     -1.340227    -1.315444\n",
       "9       -1.143017     0.098217     -1.283389    -1.447076\n",
       "10      -0.537178     1.479398     -1.283389    -1.315444\n",
       "11      -1.264185     0.788808     -1.226552    -1.315444\n",
       "12      -1.264185    -0.131979     -1.340227    -1.447076\n",
       "13      -1.870024    -0.131979     -1.510739    -1.447076\n",
       "14      -0.052506     2.169988     -1.453901    -1.315444\n",
       "15      -0.173674     3.090775     -1.283389    -1.052180\n",
       "16      -0.537178     1.939791     -1.397064    -1.052180\n",
       "17      -0.900681     1.019004     -1.340227    -1.183812\n",
       "18      -0.173674     1.709595     -1.169714    -1.183812\n",
       "19      -0.900681     1.709595     -1.283389    -1.183812\n",
       "20      -0.537178     0.788808     -1.169714    -1.315444\n",
       "21      -0.900681     1.479398     -1.283389    -1.052180\n",
       "22      -1.506521     1.249201     -1.567576    -1.315444\n",
       "23      -0.900681     0.558611     -1.169714    -0.920548\n",
       "24      -1.264185     0.788808     -1.056039    -1.315444\n",
       "25      -1.021849    -0.131979     -1.226552    -1.315444\n",
       "26      -1.021849     0.788808     -1.226552    -1.052180\n",
       "27      -0.779513     1.019004     -1.283389    -1.315444\n",
       "28      -0.779513     0.788808     -1.340227    -1.315444\n",
       "29      -1.385353     0.328414     -1.226552    -1.315444\n",
       "..            ...          ...           ...          ...\n",
       "120      1.280340     0.328414      1.103783     1.448832\n",
       "121     -0.294842    -0.592373      0.649083     1.053935\n",
       "122      2.249683    -0.592373      1.672157     1.053935\n",
       "123      0.553333    -0.822570      0.649083     0.790671\n",
       "124      1.038005     0.558611      1.103783     1.185567\n",
       "125      1.643844     0.328414      1.274295     0.790671\n",
       "126      0.432165    -0.592373      0.592246     0.790671\n",
       "127      0.310998    -0.131979      0.649083     0.790671\n",
       "128      0.674501    -0.592373      1.046945     1.185567\n",
       "129      1.643844    -0.131979      1.160620     0.527406\n",
       "130      1.886180    -0.592373      1.331133     0.922303\n",
       "131      2.492019     1.709595      1.501645     1.053935\n",
       "132      0.674501    -0.592373      1.046945     1.317199\n",
       "133      0.553333    -0.592373      0.762758     0.395774\n",
       "134      0.310998    -1.052767      1.046945     0.264142\n",
       "135      2.249683    -0.131979      1.331133     1.448832\n",
       "136      0.553333     0.788808      1.046945     1.580464\n",
       "137      0.674501     0.098217      0.990108     0.790671\n",
       "138      0.189830    -0.131979      0.592246     0.790671\n",
       "139      1.280340     0.098217      0.933271     1.185567\n",
       "140      1.038005     0.098217      1.046945     1.580464\n",
       "141      1.280340     0.098217      0.762758     1.448832\n",
       "142     -0.052506    -0.822570      0.762758     0.922303\n",
       "143      1.159173     0.328414      1.217458     1.448832\n",
       "144      1.038005     0.558611      1.103783     1.712096\n",
       "145      1.038005    -0.131979      0.819596     1.448832\n",
       "146      0.553333    -1.282963      0.705921     0.922303\n",
       "147      0.795669    -0.131979      0.819596     1.053935\n",
       "148      0.432165     0.788808      0.933271     1.448832\n",
       "149      0.068662    -0.131979      0.762758     0.790671\n",
       "\n",
       "[150 rows x 4 columns]"
      ]
     },
     "execution_count": 7,
     "metadata": {},
     "output_type": "execute_result"
    }
   ],
   "source": [
    "from sklearn.preprocessing import StandardScaler\n",
    "scaler = StandardScaler()\n",
    "scaler.fit(iris_data.drop('species',axis=1))\n",
    "scaledData = scaler.transform(iris_data.drop('species',axis=1))\n",
    "scaledDF = pd.DataFrame(scaledData, columns=iris_data.columns[:-1])\n",
    "scaledDF"
   ]
  },
  {
   "cell_type": "code",
   "execution_count": 8,
   "metadata": {
    "collapsed": false
   },
   "outputs": [
    {
     "name": "stdout",
     "output_type": "stream",
     "text": [
      "Training sample:  105\n",
      "Testing Sample:  45\n"
     ]
    }
   ],
   "source": [
    "from sklearn.model_selection import train_test_split\n",
    "X = scaledDF\n",
    "Y = iris_data['species']\n",
    "X_train,X_test,Y_train,Y_test = train_test_split(X,Y,test_size=0.3, random_state=101)\n",
    "\n",
    "print (\"Training sample: \",X_train.shape[0])\n",
    "print (\"Testing Sample: \",X_test.shape[0])"
   ]
  },
  {
   "cell_type": "markdown",
   "metadata": {},
   "source": [
    "#### Choosing the best K neighbor(s)"
   ]
  },
  {
   "cell_type": "code",
   "execution_count": 9,
   "metadata": {
    "collapsed": true
   },
   "outputs": [],
   "source": [
    "from sklearn.neighbors import KNeighborsClassifier"
   ]
  },
  {
   "cell_type": "code",
   "execution_count": 10,
   "metadata": {
    "collapsed": false
   },
   "outputs": [],
   "source": [
    "knnError = []\n",
    "for N_neighbor in range(1,50):\n",
    "    knnModel = KNeighborsClassifier(n_neighbors=N_neighbor)\n",
    "    knnModel.fit(X_train,Y_train)\n",
    "    predictions = knnModel.predict(X_test)\n",
    "    knnError.append(np.mean(predictions != Y_test))"
   ]
  },
  {
   "cell_type": "markdown",
   "metadata": {},
   "source": [
    "#### visualizing error"
   ]
  },
  {
   "cell_type": "code",
   "execution_count": 11,
   "metadata": {
    "collapsed": false
   },
   "outputs": [
    {
     "data": {
      "text/plain": [
       "<matplotlib.text.Text at 0x112faa630>"
      ]
     },
     "execution_count": 11,
     "metadata": {},
     "output_type": "execute_result"
    },
    {
     "data": {
      "image/png": "[encoded data removed]",
      "text/plain": [
       "<matplotlib.figure.Figure at 0x112f911d0>"
      ]
     },
     "metadata": {},
     "output_type": "display_data"
    }
   ],
   "source": [
    "plt.figure(figsize=(10,10))\n",
    "plt.plot(range(1,50), knnError, color='blue', linestyle='dashed', marker='o',\n",
    "         markerfacecolor='red', markersize=12)\n",
    "plt.title('Error rate vs. K')\n",
    "plt.xlabel('K Neighbors')\n",
    "plt.ylabel('Error Rate')"
   ]
  },
  {
   "cell_type": "markdown",
   "metadata": {},
   "source": [
    "This shows that our classifier tend to perform extremely well when the number of neighbors is equals to 3 with an error rate around 2%."
   ]
  },
  {
   "cell_type": "code",
   "execution_count": 12,
   "metadata": {
    "collapsed": false
   },
   "outputs": [
    {
     "name": "stdout",
     "output_type": "stream",
     "text": [
      "[[13  0  0]\n",
      " [ 0 20  0]\n",
      " [ 0  1 11]]\n",
      "             precision    recall  f1-score   support\n",
      "\n",
      "     setosa       1.00      1.00      1.00        13\n",
      " versicolor       0.95      1.00      0.98        20\n",
      "  virginica       1.00      0.92      0.96        12\n",
      "\n",
      "avg / total       0.98      0.98      0.98        45\n",
      "\n"
     ]
    }
   ],
   "source": [
    "from sklearn.metrics import confusion_matrix,classification_report\n",
    "\n",
    "knnModel = KNeighborsClassifier(n_neighbors=3)\n",
    "knnModel.fit(X_train,Y_train)\n",
    "prediction = knnModel.predict(X_test)\n",
    "\n",
    "print (confusion_matrix(Y_test,prediction))\n",
    "print (classification_report(Y_test,prediction))"
   ]
  },
  {
   "cell_type": "markdown",
   "metadata": {},
   "source": [
    "The model has a very high percision and recall rates for each type of species."
   ]
  },
  {
   "cell_type": "markdown",
   "metadata": {},
   "source": [
    "# Random Forests"
   ]
  },
  {
   "cell_type": "markdown",
   "metadata": {},
   "source": [
    "Since decision trees are well known to overfit the data, Random Forests is another classification method that aims to lower the fitting bias. Random Forests are based on bootstrap aggregation. Thus, a'Tree bag', refers to the idea of choosing several random samples with replacement from the training set and try to fit trees to these samples."
   ]
  },
  {
   "cell_type": "code",
   "execution_count": 13,
   "metadata": {
    "collapsed": false
   },
   "outputs": [
    {
     "name": "stdout",
     "output_type": "stream",
     "text": [
      "Training sample:  105\n",
      "Testing Sample:  45\n"
     ]
    }
   ],
   "source": [
    "X = iris_data.drop('species',axis=1)\n",
    "Y = iris_data['species']\n",
    "X_train,X_test,Y_train,Y_test = train_test_split(X,Y,test_size=0.3, random_state=101)\n",
    "\n",
    "print (\"Training sample: \",X_train.shape[0])\n",
    "print (\"Testing Sample: \",X_test.shape[0])"
   ]
  },
  {
   "cell_type": "code",
   "execution_count": 14,
   "metadata": {
    "collapsed": true
   },
   "outputs": [],
   "source": [
    "from sklearn.ensemble import RandomForestClassifier"
   ]
  },
  {
   "cell_type": "code",
   "execution_count": 15,
   "metadata": {
    "collapsed": false
   },
   "outputs": [],
   "source": [
    "rf = RandomForestClassifier(n_estimators=200)\n",
    "rf.fit(X_train,Y_train)\n",
    "predictions = rf.predict(X_test)"
   ]
  },
  {
   "cell_type": "code",
   "execution_count": 16,
   "metadata": {
    "collapsed": false
   },
   "outputs": [
    {
     "name": "stdout",
     "output_type": "stream",
     "text": [
      "             precision    recall  f1-score   support\n",
      "\n",
      "     setosa       1.00      1.00      1.00        13\n",
      " versicolor       0.95      0.95      0.95        20\n",
      "  virginica       0.92      0.92      0.92        12\n",
      "\n",
      "avg / total       0.96      0.96      0.96        45\n",
      "\n",
      "[[13  0  0]\n",
      " [ 0 19  1]\n",
      " [ 0  1 11]]\n"
     ]
    }
   ],
   "source": [
    "print (classification_report(Y_test,predictions))\n",
    "print (confusion_matrix(Y_test,predictions))"
   ]
  },
  {
   "cell_type": "markdown",
   "metadata": {},
   "source": [
    "The model has a high recall and precision rates for setosa (100%),but slightly lower accuracy metrics for versicolor and virginica. However, compairng the avrg precision and recall rates of KNN to Random Forests, KNN tend to perform better by 2% (which is not a lot, but it's still something)."
   ]
  },
  {
   "cell_type": "markdown",
   "metadata": {},
   "source": [
    "# Support Vector Machine (SVM)"
   ]
  },
  {
   "cell_type": "markdown",
   "metadata": {},
   "source": [
    "is a non-probabilistic binary linear classifier that classify data into *N* separate categories in space. SVM tries to create clear, as well as wide, boundaries between these categories in order to better predict, and improve, the accuracy of the classifier when encountring a new data point(s)."
   ]
  },
  {
   "cell_type": "code",
   "execution_count": 17,
   "metadata": {
    "collapsed": true
   },
   "outputs": [],
   "source": [
    "from sklearn.svm import SVC"
   ]
  },
  {
   "cell_type": "code",
   "execution_count": 18,
   "metadata": {
    "collapsed": true
   },
   "outputs": [],
   "source": [
    "svm = SVC()"
   ]
  },
  {
   "cell_type": "code",
   "execution_count": 19,
   "metadata": {
    "collapsed": false
   },
   "outputs": [
    {
     "data": {
      "text/plain": [
       "SVC(C=1.0, cache_size=200, class_weight=None, coef0=0.0,\n",
       "  decision_function_shape=None, degree=3, gamma='auto', kernel='rbf',\n",
       "  max_iter=-1, probability=False, random_state=None, shrinking=True,\n",
       "  tol=0.001, verbose=False)"
      ]
     },
     "execution_count": 19,
     "metadata": {},
     "output_type": "execute_result"
    }
   ],
   "source": [
    "svm.fit(X_train,Y_train)"
   ]
  },
  {
   "cell_type": "markdown",
   "metadata": {},
   "source": [
    "### Grid Search "
   ]
  },
  {
   "cell_type": "markdown",
   "metadata": {},
   "source": [
    "Grid search is a technique used to enhance and choose the best fit model from a set of SVM models by trying the different combinations of a set of parameters. You can think of the parameters being used in the grid search process to be represented in a matrix such that each cell is a combination of two paratmers. Each cell is then filled out with a score indicating the fit of the model at those specific parameters. Afterwards, 'refit==True' returns the best fit of all models."
   ]
  },
  {
   "cell_type": "code",
   "execution_count": 22,
   "metadata": {
    "collapsed": false
   },
   "outputs": [
    {
     "name": "stderr",
     "output_type": "stream",
     "text": [
      "/Users/Mowafak/anaconda/lib/python3.5/site-packages/sklearn/cross_validation.py:44: DeprecationWarning: This module was deprecated in version 0.18 in favor of the model_selection module into which all the refactored classes and functions are moved. Also note that the interface of the new CV iterators are different from that of this module. This module will be removed in 0.20.\n",
      "  \"This module will be removed in 0.20.\", DeprecationWarning)\n",
      "/Users/Mowafak/anaconda/lib/python3.5/site-packages/sklearn/grid_search.py:43: DeprecationWarning: This module was deprecated in version 0.18 in favor of the model_selection module into which all the refactored classes and functions are moved. This module will be removed in 0.20.\n",
      "  DeprecationWarning)\n"
     ]
    }
   ],
   "source": [
    "from sklearn.grid_search import GridSearchCV"
   ]
  },
  {
   "cell_type": "code",
   "execution_count": 23,
   "metadata": {
    "collapsed": false
   },
   "outputs": [],
   "source": [
    "param_grid = {'C':[0.1,1, 10, 100], 'gamma': [1,0.1,0.01,0.001]}"
   ]
  },
  {
   "cell_type": "code",
   "execution_count": 24,
   "metadata": {
    "collapsed": false
   },
   "outputs": [],
   "source": [
    "gridSearch = GridSearchCV(SVC(),param_grid,refit=True,verbose=3)"
   ]
  },
  {
   "cell_type": "code",
   "execution_count": 25,
   "metadata": {
    "collapsed": false
   },
   "outputs": [
    {
     "name": "stdout",
     "output_type": "stream",
     "text": [
      "Fitting 3 folds for each of 16 candidates, totalling 48 fits\n",
      "[CV] gamma=1, C=0.1 ..................................................\n",
      "[CV] ......................... gamma=1, C=0.1, score=0.916667 -   0.0s\n",
      "[CV] gamma=1, C=0.1 ..................................................\n",
      "[CV] ......................... gamma=1, C=0.1, score=0.914286 -   0.0s\n",
      "[CV] gamma=1, C=0.1 ..................................................\n",
      "[CV] ......................... gamma=1, C=0.1, score=0.882353 -   0.0s\n",
      "[CV] gamma=0.1, C=0.1 ................................................\n",
      "[CV] ....................... gamma=0.1, C=0.1, score=0.750000 -   0.0s\n",
      "[CV] gamma=0.1, C=0.1 ................................................\n",
      "[CV] ....................... gamma=0.1, C=0.1, score=0.771429 -   0.0s\n",
      "[CV] gamma=0.1, C=0.1 ................................................\n",
      "[CV] ....................... gamma=0.1, C=0.1, score=0.764706 -   0.0s\n",
      "[CV] gamma=0.01, C=0.1 ...............................................\n",
      "[CV] ...................... gamma=0.01, C=0.1, score=0.722222 -   0.0s\n",
      "[CV] gamma=0.01, C=0.1 ...............................................\n",
      "[CV] ...................... gamma=0.01, C=0.1, score=0.714286 -   0.0s\n",
      "[CV] gamma=0.01, C=0.1 ...............................................\n",
      "[CV] ...................... gamma=0.01, C=0.1, score=0.705882 -   0.0s\n",
      "[CV] gamma=0.001, C=0.1 ..............................................\n",
      "[CV] ..................... gamma=0.001, C=0.1, score=0.361111 -   0.0s\n",
      "[CV] gamma=0.001, C=0.1 ..............................................\n"
     ]
    },
    {
     "name": "stderr",
     "output_type": "stream",
     "text": [
      "[Parallel(n_jobs=1)]: Done   1 out of   1 | elapsed:    0.0s remaining:    0.0s\n",
      "[Parallel(n_jobs=1)]: Done   2 out of   2 | elapsed:    0.0s remaining:    0.0s\n"
     ]
    },
    {
     "name": "stdout",
     "output_type": "stream",
     "text": [
      "[CV] ..................... gamma=0.001, C=0.1, score=0.714286 -   0.0s\n",
      "[CV] gamma=0.001, C=0.1 ..............................................\n",
      "[CV] ..................... gamma=0.001, C=0.1, score=0.352941 -   0.0s\n",
      "[CV] gamma=1, C=1 ....................................................\n",
      "[CV] ........................... gamma=1, C=1, score=0.944444 -   0.0s\n",
      "[CV] gamma=1, C=1 ....................................................\n",
      "[CV] ........................... gamma=1, C=1, score=0.914286 -   0.0s\n",
      "[CV] gamma=1, C=1 ....................................................\n",
      "[CV] ........................... gamma=1, C=1, score=0.941176 -   0.0s\n",
      "[CV] gamma=0.1, C=1 ..................................................\n",
      "[CV] ......................... gamma=0.1, C=1, score=1.000000 -   0.0s\n",
      "[CV] gamma=0.1, C=1 ..................................................\n",
      "[CV] ......................... gamma=0.1, C=1, score=0.914286 -   0.0s\n",
      "[CV] gamma=0.1, C=1 ..................................................\n",
      "[CV] ......................... gamma=0.1, C=1, score=0.970588 -   0.0s\n",
      "[CV] gamma=0.01, C=1 .................................................\n",
      "[CV] ........................ gamma=0.01, C=1, score=0.861111 -   0.0s\n",
      "[CV] gamma=0.01, C=1 .................................................\n",
      "[CV] ........................ gamma=0.01, C=1, score=0.828571 -   0.0s\n",
      "[CV] gamma=0.01, C=1 .................................................\n",
      "[CV] ........................ gamma=0.01, C=1, score=0.852941 -   0.0s\n",
      "[CV] gamma=0.001, C=1 ................................................\n",
      "[CV] ....................... gamma=0.001, C=1, score=0.722222 -   0.0s\n",
      "[CV] gamma=0.001, C=1 ................................................\n",
      "[CV] ....................... gamma=0.001, C=1, score=0.714286 -   0.0s\n",
      "[CV] gamma=0.001, C=1 ................................................\n",
      "[CV] ....................... gamma=0.001, C=1, score=0.705882 -   0.0s\n",
      "[CV] gamma=1, C=10 ...................................................\n",
      "[CV] .......................... gamma=1, C=10, score=0.944444 -   0.0s\n",
      "[CV] gamma=1, C=10 ...................................................\n",
      "[CV] .......................... gamma=1, C=10, score=0.914286 -   0.0s\n",
      "[CV] gamma=1, C=10 ...................................................\n",
      "[CV] .......................... gamma=1, C=10, score=0.911765 -   0.0s\n",
      "[CV] gamma=0.1, C=10 .................................................\n",
      "[CV] ........................ gamma=0.1, C=10, score=1.000000 -   0.0s\n",
      "[CV] gamma=0.1, C=10 .................................................\n",
      "[CV] ........................ gamma=0.1, C=10, score=0.914286 -   0.0s\n",
      "[CV] gamma=0.1, C=10 .................................................\n",
      "[CV] ........................ gamma=0.1, C=10, score=0.911765 -   0.0s\n",
      "[CV] gamma=0.01, C=10 ................................................\n",
      "[CV] ....................... gamma=0.01, C=10, score=1.000000 -   0.0s\n",
      "[CV] gamma=0.01, C=10 ................................................\n",
      "[CV] ....................... gamma=0.01, C=10, score=0.942857 -   0.0s\n",
      "[CV] gamma=0.01, C=10 ................................................\n",
      "[CV] ....................... gamma=0.01, C=10, score=0.911765 -   0.0s\n",
      "[CV] gamma=0.001, C=10 ...............................................\n",
      "[CV] ...................... gamma=0.001, C=10, score=0.861111 -   0.0s\n",
      "[CV] gamma=0.001, C=10 ...............................................\n",
      "[CV] ...................... gamma=0.001, C=10, score=0.828571 -   0.0s\n",
      "[CV] gamma=0.001, C=10 ...............................................\n",
      "[CV] ...................... gamma=0.001, C=10, score=0.852941 -   0.0s\n",
      "[CV] gamma=1, C=100 ..................................................\n",
      "[CV] ......................... gamma=1, C=100, score=0.944444 -   0.0s\n",
      "[CV] gamma=1, C=100 ..................................................\n",
      "[CV] ......................... gamma=1, C=100, score=0.914286 -   0.0s\n",
      "[CV] gamma=1, C=100 ..................................................\n",
      "[CV] ......................... gamma=1, C=100, score=0.911765 -   0.0s\n",
      "[CV] gamma=0.1, C=100 ................................................\n",
      "[CV] ....................... gamma=0.1, C=100, score=0.944444 -   0.0s\n",
      "[CV] gamma=0.1, C=100 ................................................\n",
      "[CV] ....................... gamma=0.1, C=100, score=0.914286 -   0.0s\n",
      "[CV] gamma=0.1, C=100 ................................................\n",
      "[CV] ....................... gamma=0.1, C=100, score=0.911765 -   0.0s\n",
      "[CV] gamma=0.01, C=100 ...............................................\n",
      "[CV] ...................... gamma=0.01, C=100, score=1.000000 -   0.0s\n",
      "[CV] gamma=0.01, C=100 ...............................................\n",
      "[CV] ...................... gamma=0.01, C=100, score=0.914286 -   0.0s\n",
      "[CV] gamma=0.01, C=100 ...............................................\n",
      "[CV] ...................... gamma=0.01, C=100, score=0.911765 -   0.0s\n",
      "[CV] gamma=0.001, C=100 ..............................................\n",
      "[CV] ..................... gamma=0.001, C=100, score=1.000000 -   0.0s\n",
      "[CV] gamma=0.001, C=100 ..............................................\n",
      "[CV] ..................... gamma=0.001, C=100, score=0.914286 -   0.0s\n",
      "[CV] gamma=0.001, C=100 ..............................................\n",
      "[CV] ..................... gamma=0.001, C=100, score=0.911765 -   0.0s\n"
     ]
    },
    {
     "name": "stderr",
     "output_type": "stream",
     "text": [
      "[Parallel(n_jobs=1)]: Done  48 out of  48 | elapsed:    0.3s finished\n"
     ]
    },
    {
     "data": {
      "text/plain": [
       "GridSearchCV(cv=None, error_score='raise',\n",
       "       estimator=SVC(C=1.0, cache_size=200, class_weight=None, coef0=0.0,\n",
       "  decision_function_shape=None, degree=3, gamma='auto', kernel='rbf',\n",
       "  max_iter=-1, probability=False, random_state=None, shrinking=True,\n",
       "  tol=0.001, verbose=False),\n",
       "       fit_params={}, iid=True, n_jobs=1,\n",
       "       param_grid={'gamma': [1, 0.1, 0.01, 0.001], 'C': [0.1, 1, 10, 100]},\n",
       "       pre_dispatch='2*n_jobs', refit=True, scoring=None, verbose=3)"
      ]
     },
     "execution_count": 25,
     "metadata": {},
     "output_type": "execute_result"
    }
   ],
   "source": [
    "gridSearch.fit(X_train,Y_train)"
   ]
  },
  {
   "cell_type": "markdown",
   "metadata": {},
   "source": [
    "#### Our best parameters are:"
   ]
  },
  {
   "cell_type": "code",
   "execution_count": 26,
   "metadata": {
    "collapsed": false
   },
   "outputs": [
    {
     "data": {
      "text/plain": [
       "{'C': 1, 'gamma': 0.1}"
      ]
     },
     "execution_count": 26,
     "metadata": {},
     "output_type": "execute_result"
    }
   ],
   "source": [
    "gridSearch.best_params_"
   ]
  },
  {
   "cell_type": "code",
   "execution_count": 27,
   "metadata": {
    "collapsed": true
   },
   "outputs": [],
   "source": [
    "predictions = gridSearch.predict(X_test)"
   ]
  },
  {
   "cell_type": "code",
   "execution_count": 28,
   "metadata": {
    "collapsed": false
   },
   "outputs": [
    {
     "data": {
      "text/plain": [
       "array([[13,  0,  0],\n",
       "       [ 0, 19,  1],\n",
       "       [ 0,  0, 12]])"
      ]
     },
     "execution_count": 28,
     "metadata": {},
     "output_type": "execute_result"
    }
   ],
   "source": [
    "confusion_matrix(Y_test,predictions)"
   ]
  },
  {
   "cell_type": "code",
   "execution_count": 29,
   "metadata": {
    "collapsed": false,
    "scrolled": true
   },
   "outputs": [
    {
     "name": "stdout",
     "output_type": "stream",
     "text": [
      "             precision    recall  f1-score   support\n",
      "\n",
      "     setosa       1.00      1.00      1.00        13\n",
      " versicolor       1.00      0.95      0.97        20\n",
      "  virginica       0.92      1.00      0.96        12\n",
      "\n",
      "avg / total       0.98      0.98      0.98        45\n",
      "\n"
     ]
    }
   ],
   "source": [
    "print (classification_report(Y_test,predictions))"
   ]
  },
  {
   "cell_type": "markdown",
   "metadata": {},
   "source": [
    "This provides a survey of these three common classification approaches in machine learning. The percision and recall rates for this dataset are very high, however, it's not always the case for large datasets."
   ]
  }
 ],
 "metadata": {
  "anaconda-cloud": {},
  "kernelspec": {
   "display_name": "Python [conda root]",
   "language": "python",
   "name": "conda-root-py"
  },
  "language_info": {
   "codemirror_mode": {
    "name": "ipython",
    "version": 3
   },
   "file_extension": ".py",
   "mimetype": "text/x-python",
   "name": "python",
   "nbconvert_exporter": "python",
   "pygments_lexer": "ipython3",
   "version": "3.5.2"
  }
 },
 "nbformat": 4,
 "nbformat_minor": 1
}
